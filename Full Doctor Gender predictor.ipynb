{
 "cells": [
  {
   "cell_type": "code",
   "execution_count": 618,
   "id": "d5583478",
   "metadata": {},
   "outputs": [
    {
     "data": {
      "text/html": [
       "<div>\n",
       "<style scoped>\n",
       "    .dataframe tbody tr th:only-of-type {\n",
       "        vertical-align: middle;\n",
       "    }\n",
       "\n",
       "    .dataframe tbody tr th {\n",
       "        vertical-align: top;\n",
       "    }\n",
       "\n",
       "    .dataframe thead th {\n",
       "        text-align: right;\n",
       "    }\n",
       "</style>\n",
       "<table border=\"1\" class=\"dataframe\">\n",
       "  <thead>\n",
       "    <tr style=\"text-align: right;\">\n",
       "      <th></th>\n",
       "      <th>Name</th>\n",
       "      <th>Gender</th>\n",
       "    </tr>\n",
       "  </thead>\n",
       "  <tbody>\n",
       "    <tr>\n",
       "      <th>0</th>\n",
       "      <td>mary</td>\n",
       "      <td>F</td>\n",
       "    </tr>\n",
       "    <tr>\n",
       "      <th>1</th>\n",
       "      <td>anna</td>\n",
       "      <td>F</td>\n",
       "    </tr>\n",
       "    <tr>\n",
       "      <th>2</th>\n",
       "      <td>emma</td>\n",
       "      <td>F</td>\n",
       "    </tr>\n",
       "    <tr>\n",
       "      <th>3</th>\n",
       "      <td>elizabeth</td>\n",
       "      <td>F</td>\n",
       "    </tr>\n",
       "    <tr>\n",
       "      <th>4</th>\n",
       "      <td>minnie</td>\n",
       "      <td>F</td>\n",
       "    </tr>\n",
       "  </tbody>\n",
       "</table>\n",
       "</div>"
      ],
      "text/plain": [
       "        Name Gender\n",
       "0       mary      F\n",
       "1       anna      F\n",
       "2       emma      F\n",
       "3  elizabeth      F\n",
       "4     minnie      F"
      ]
     },
     "execution_count": 618,
     "metadata": {},
     "output_type": "execute_result"
    }
   ],
   "source": [
    "#read gender data\n",
    "import pandas as pd\n",
    "\n",
    "nameDF=pd.read_excel(r'C:\\Users\\Naim\\name-gender-dataset.xlsx')\n",
    "nameDF.head()"
   ]
  },
  {
   "cell_type": "code",
   "execution_count": 619,
   "id": "b5e03b15",
   "metadata": {},
   "outputs": [],
   "source": [
    "#drop non values\n",
    "nameDF=nameDF.dropna()"
   ]
  },
  {
   "cell_type": "code",
   "execution_count": 620,
   "id": "8dde53b5",
   "metadata": {},
   "outputs": [],
   "source": [
    "nameDF=nameDF[nameDF['Name']!=True]"
   ]
  },
  {
   "cell_type": "code",
   "execution_count": 621,
   "id": "29f518ae",
   "metadata": {},
   "outputs": [
    {
     "data": {
      "text/plain": [
       "(177456, 2)"
      ]
     },
     "execution_count": 621,
     "metadata": {},
     "output_type": "execute_result"
    }
   ],
   "source": [
    "#A function to to analyze a word and get the last letters in it to help get the correct classification\n",
    "\n",
    "#In Chapter 4 of the NLTK book, we saw that male and female names have some distinctive characteristics.\n",
    "#Names ending in a, e and i are likely to be female, while names ending in k, o, r, s and t are likely to be male.\n",
    "#'https://www.kaggle.com/alvations/gender-identification-nltk-book-6-1-1-6-1-2'\n",
    "\n",
    "def gender_features(word): \n",
    "#     print({'last_letter':word[-1]})\n",
    "#     return {'last_letter':word[-1].lower()} \n",
    "    \n",
    "    return {  \n",
    "      'last_letter': word[-1].lower(),'last_two' : word[-2:].lower(),'last_is_vowel' : (word[-1].lower() in 'aeiou')\n",
    "  }\n",
    "nameDF.shape"
   ]
  },
  {
   "cell_type": "code",
   "execution_count": 622,
   "id": "e3f79fcb",
   "metadata": {},
   "outputs": [
    {
     "name": "stdout",
     "output_type": "stream",
     "text": [
      "177456\n"
     ]
    }
   ],
   "source": [
    "# we use the feature extractor to process the names data. \n",
    "featuresets = [(gender_features(row['Name']), row['Gender']) for index, row in nameDF.iterrows()] \n",
    "print(len(featuresets))"
   ]
  },
  {
   "cell_type": "code",
   "execution_count": 623,
   "id": "967b3014",
   "metadata": {},
   "outputs": [],
   "source": [
    "#build a classifier to model these differences more precisely.\n",
    "import random \n",
    "from nltk.corpus import names \n",
    "import nltk \n",
    "\n",
    "#Splitting Data\n",
    "train_set, test_set = featuresets[34000:], featuresets[:34000] \n",
    "classifier = nltk.NaiveBayesClassifier.train(train_set)"
   ]
  },
  {
   "cell_type": "code",
   "execution_count": 626,
   "id": "7fedd2d8",
   "metadata": {},
   "outputs": [],
   "source": [
    "# Load Data that contains all features of Doctors\n",
    "\n",
    "import pandas as pd\n",
    "import numpy as np\n",
    "\n",
    "df = pd.read_csv(r'C:\\Users\\Naim\\Everything.csv', encoding=\"utf-8\")"
   ]
  },
  {
   "cell_type": "code",
   "execution_count": 627,
   "id": "a3c34394",
   "metadata": {},
   "outputs": [
    {
     "data": {
      "text/html": [
       "<div>\n",
       "<style scoped>\n",
       "    .dataframe tbody tr th:only-of-type {\n",
       "        vertical-align: middle;\n",
       "    }\n",
       "\n",
       "    .dataframe tbody tr th {\n",
       "        vertical-align: top;\n",
       "    }\n",
       "\n",
       "    .dataframe thead th {\n",
       "        text-align: right;\n",
       "    }\n",
       "</style>\n",
       "<table border=\"1\" class=\"dataframe\">\n",
       "  <thead>\n",
       "    <tr style=\"text-align: right;\">\n",
       "      <th></th>\n",
       "      <th>ClinicianName</th>\n",
       "      <th>CategoryName</th>\n",
       "      <th>PatientGender</th>\n",
       "      <th>PatientMarital</th>\n",
       "      <th>PatientAge</th>\n",
       "      <th>ClinicianGender</th>\n",
       "    </tr>\n",
       "  </thead>\n",
       "  <tbody>\n",
       "    <tr>\n",
       "      <th>0</th>\n",
       "      <td>HIBA DEMYATI</td>\n",
       "      <td>GENERAL MEDICINE</td>\n",
       "      <td>Female</td>\n",
       "      <td>Single</td>\n",
       "      <td>5</td>\n",
       "      <td>Female</td>\n",
       "    </tr>\n",
       "    <tr>\n",
       "      <th>1</th>\n",
       "      <td>HIBA DEMYATI</td>\n",
       "      <td>GENERAL MEDICINE</td>\n",
       "      <td>Female</td>\n",
       "      <td>Single</td>\n",
       "      <td>5</td>\n",
       "      <td>Female</td>\n",
       "    </tr>\n",
       "    <tr>\n",
       "      <th>2</th>\n",
       "      <td>HIBA DEMYATI</td>\n",
       "      <td>GENERAL MEDICINE</td>\n",
       "      <td>Female</td>\n",
       "      <td>Single</td>\n",
       "      <td>5</td>\n",
       "      <td>Female</td>\n",
       "    </tr>\n",
       "    <tr>\n",
       "      <th>3</th>\n",
       "      <td>Kavita Ramish Kumar</td>\n",
       "      <td>OBSTETRICS AND GYNAECOLOGY</td>\n",
       "      <td>Female</td>\n",
       "      <td>Married</td>\n",
       "      <td>25</td>\n",
       "      <td>Female</td>\n",
       "    </tr>\n",
       "    <tr>\n",
       "      <th>4</th>\n",
       "      <td>Saifeldin Nagmeldin Awad Mohamed Ali</td>\n",
       "      <td>GENERAL MEDICINE</td>\n",
       "      <td>Female</td>\n",
       "      <td>Married</td>\n",
       "      <td>53</td>\n",
       "      <td>Male</td>\n",
       "    </tr>\n",
       "    <tr>\n",
       "      <th>...</th>\n",
       "      <td>...</td>\n",
       "      <td>...</td>\n",
       "      <td>...</td>\n",
       "      <td>...</td>\n",
       "      <td>...</td>\n",
       "      <td>...</td>\n",
       "    </tr>\n",
       "    <tr>\n",
       "      <th>995046</th>\n",
       "      <td>Dr.SAJU ABDUL KHADER</td>\n",
       "      <td>DENTIST</td>\n",
       "      <td>Male</td>\n",
       "      <td>Married</td>\n",
       "      <td>52</td>\n",
       "      <td>Male</td>\n",
       "    </tr>\n",
       "    <tr>\n",
       "      <th>995047</th>\n",
       "      <td>MOHAMMED FAYEZ HAJIR</td>\n",
       "      <td>PEDIATRICS</td>\n",
       "      <td>Male</td>\n",
       "      <td>Single</td>\n",
       "      <td>2</td>\n",
       "      <td>Male</td>\n",
       "    </tr>\n",
       "    <tr>\n",
       "      <th>995048</th>\n",
       "      <td>MOHAMMED FAYEZ HAJIR</td>\n",
       "      <td>PEDIATRICS</td>\n",
       "      <td>Male</td>\n",
       "      <td>Single</td>\n",
       "      <td>2</td>\n",
       "      <td>Male</td>\n",
       "    </tr>\n",
       "    <tr>\n",
       "      <th>995049</th>\n",
       "      <td>MOHAMMED FAYEZ HAJIR</td>\n",
       "      <td>PEDIATRICS</td>\n",
       "      <td>Male</td>\n",
       "      <td>Single</td>\n",
       "      <td>2</td>\n",
       "      <td>Male</td>\n",
       "    </tr>\n",
       "    <tr>\n",
       "      <th>995050</th>\n",
       "      <td>MOHAMMED FAYEZ HAJIR</td>\n",
       "      <td>PEDIATRICS</td>\n",
       "      <td>Male</td>\n",
       "      <td>Single</td>\n",
       "      <td>2</td>\n",
       "      <td>Male</td>\n",
       "    </tr>\n",
       "  </tbody>\n",
       "</table>\n",
       "<p>995051 rows × 6 columns</p>\n",
       "</div>"
      ],
      "text/plain": [
       "                               ClinicianName                CategoryName  \\\n",
       "0                               HIBA DEMYATI            GENERAL MEDICINE   \n",
       "1                               HIBA DEMYATI            GENERAL MEDICINE   \n",
       "2                               HIBA DEMYATI            GENERAL MEDICINE   \n",
       "3                        Kavita Ramish Kumar  OBSTETRICS AND GYNAECOLOGY   \n",
       "4       Saifeldin Nagmeldin Awad Mohamed Ali            GENERAL MEDICINE   \n",
       "...                                      ...                         ...   \n",
       "995046                  Dr.SAJU ABDUL KHADER                     DENTIST   \n",
       "995047                  MOHAMMED FAYEZ HAJIR                  PEDIATRICS   \n",
       "995048                  MOHAMMED FAYEZ HAJIR                  PEDIATRICS   \n",
       "995049                  MOHAMMED FAYEZ HAJIR                  PEDIATRICS   \n",
       "995050                  MOHAMMED FAYEZ HAJIR                  PEDIATRICS   \n",
       "\n",
       "       PatientGender PatientMarital  PatientAge ClinicianGender  \n",
       "0             Female         Single           5          Female  \n",
       "1             Female         Single           5          Female  \n",
       "2             Female         Single           5          Female  \n",
       "3             Female        Married          25          Female  \n",
       "4             Female        Married          53            Male  \n",
       "...              ...            ...         ...             ...  \n",
       "995046          Male        Married          52            Male  \n",
       "995047          Male         Single           2            Male  \n",
       "995048          Male         Single           2            Male  \n",
       "995049          Male         Single           2            Male  \n",
       "995050          Male         Single           2            Male  \n",
       "\n",
       "[995051 rows x 6 columns]"
      ]
     },
     "execution_count": 627,
     "metadata": {},
     "output_type": "execute_result"
    }
   ],
   "source": [
    "df"
   ]
  },
  {
   "cell_type": "code",
   "execution_count": 628,
   "id": "fb484fe2",
   "metadata": {},
   "outputs": [],
   "source": [
    "# A function to remove punctuation from Clinician name\n",
    "def Remove_punctuation(word):\n",
    "    punctuations = '''!()-[]{};:'\"\\,<>./?@#$%^&*_~'''\n",
    " \n",
    "    no_punc = \"\"\n",
    "    for char in word:\n",
    "       if char not in punctuations:\n",
    "          no_punc = no_punc + char\n",
    "    return no_punc"
   ]
  },
  {
   "cell_type": "code",
   "execution_count": 629,
   "id": "075463f6",
   "metadata": {},
   "outputs": [],
   "source": [
    "df['ClinicianName'] = df['ClinicianName'].astype(str)"
   ]
  },
  {
   "cell_type": "code",
   "execution_count": 630,
   "id": "4c4fd1d0",
   "metadata": {},
   "outputs": [],
   "source": [
    "# Getting out the first name only\n",
    "df['ClinicianName'] = df['ClinicianName'].apply(lambda x: x.split()[0])"
   ]
  },
  {
   "cell_type": "code",
   "execution_count": 631,
   "id": "72f49ac6",
   "metadata": {},
   "outputs": [],
   "source": [
    "# Apply remove punctuations function\n",
    "df['ClinicianName'] = df['ClinicianName'].apply(lambda x: Remove_punctuation(x))"
   ]
  },
  {
   "cell_type": "code",
   "execution_count": 632,
   "id": "dbde414c",
   "metadata": {},
   "outputs": [],
   "source": [
    "# Getting ride of spaces in names\n",
    "df['ClinicianName'] = df['ClinicianName'].str.strip()"
   ]
  },
  {
   "cell_type": "code",
   "execution_count": 634,
   "id": "cf9b9e85",
   "metadata": {},
   "outputs": [],
   "source": [
    "# Getting out initial classifying for name based on nltk\n",
    "\n",
    "def InitialClassify(word):\n",
    "    result = classifier.classify(gender_features(word))\n",
    "    return result"
   ]
  },
  {
   "cell_type": "code",
   "execution_count": 635,
   "id": "791cf67d",
   "metadata": {},
   "outputs": [],
   "source": [
    "# Replacing each clinician name with its initial classifying\n",
    "\n",
    "df['ClinicianName'] = df['ClinicianName'].apply(lambda x: InitialClassify(x))"
   ]
  },
  {
   "cell_type": "code",
   "execution_count": 638,
   "id": "0a4144d4",
   "metadata": {},
   "outputs": [],
   "source": [
    "#Rename ClinicianName column with processing one\n",
    "\n",
    "df.rename(columns={'ClinicianName':'InitialClassifing'}, inplace=True)"
   ]
  },
  {
   "cell_type": "code",
   "execution_count": 639,
   "id": "3e87ee15",
   "metadata": {},
   "outputs": [
    {
     "data": {
      "text/html": [
       "<div>\n",
       "<style scoped>\n",
       "    .dataframe tbody tr th:only-of-type {\n",
       "        vertical-align: middle;\n",
       "    }\n",
       "\n",
       "    .dataframe tbody tr th {\n",
       "        vertical-align: top;\n",
       "    }\n",
       "\n",
       "    .dataframe thead th {\n",
       "        text-align: right;\n",
       "    }\n",
       "</style>\n",
       "<table border=\"1\" class=\"dataframe\">\n",
       "  <thead>\n",
       "    <tr style=\"text-align: right;\">\n",
       "      <th></th>\n",
       "      <th>InitialClassifing</th>\n",
       "      <th>CategoryName</th>\n",
       "      <th>PatientGender</th>\n",
       "      <th>PatientMarital</th>\n",
       "      <th>PatientAge</th>\n",
       "      <th>ClinicianGender</th>\n",
       "    </tr>\n",
       "  </thead>\n",
       "  <tbody>\n",
       "    <tr>\n",
       "      <th>0</th>\n",
       "      <td>F</td>\n",
       "      <td>GENERAL MEDICINE</td>\n",
       "      <td>Female</td>\n",
       "      <td>Single</td>\n",
       "      <td>5</td>\n",
       "      <td>Female</td>\n",
       "    </tr>\n",
       "    <tr>\n",
       "      <th>1</th>\n",
       "      <td>F</td>\n",
       "      <td>GENERAL MEDICINE</td>\n",
       "      <td>Female</td>\n",
       "      <td>Single</td>\n",
       "      <td>5</td>\n",
       "      <td>Female</td>\n",
       "    </tr>\n",
       "    <tr>\n",
       "      <th>2</th>\n",
       "      <td>F</td>\n",
       "      <td>GENERAL MEDICINE</td>\n",
       "      <td>Female</td>\n",
       "      <td>Single</td>\n",
       "      <td>5</td>\n",
       "      <td>Female</td>\n",
       "    </tr>\n",
       "    <tr>\n",
       "      <th>3</th>\n",
       "      <td>F</td>\n",
       "      <td>OBSTETRICS AND GYNAECOLOGY</td>\n",
       "      <td>Female</td>\n",
       "      <td>Married</td>\n",
       "      <td>25</td>\n",
       "      <td>Female</td>\n",
       "    </tr>\n",
       "    <tr>\n",
       "      <th>4</th>\n",
       "      <td>M</td>\n",
       "      <td>GENERAL MEDICINE</td>\n",
       "      <td>Female</td>\n",
       "      <td>Married</td>\n",
       "      <td>53</td>\n",
       "      <td>Male</td>\n",
       "    </tr>\n",
       "    <tr>\n",
       "      <th>...</th>\n",
       "      <td>...</td>\n",
       "      <td>...</td>\n",
       "      <td>...</td>\n",
       "      <td>...</td>\n",
       "      <td>...</td>\n",
       "      <td>...</td>\n",
       "    </tr>\n",
       "    <tr>\n",
       "      <th>995046</th>\n",
       "      <td>F</td>\n",
       "      <td>DENTIST</td>\n",
       "      <td>Male</td>\n",
       "      <td>Married</td>\n",
       "      <td>52</td>\n",
       "      <td>Male</td>\n",
       "    </tr>\n",
       "    <tr>\n",
       "      <th>995047</th>\n",
       "      <td>M</td>\n",
       "      <td>PEDIATRICS</td>\n",
       "      <td>Male</td>\n",
       "      <td>Single</td>\n",
       "      <td>2</td>\n",
       "      <td>Male</td>\n",
       "    </tr>\n",
       "    <tr>\n",
       "      <th>995048</th>\n",
       "      <td>M</td>\n",
       "      <td>PEDIATRICS</td>\n",
       "      <td>Male</td>\n",
       "      <td>Single</td>\n",
       "      <td>2</td>\n",
       "      <td>Male</td>\n",
       "    </tr>\n",
       "    <tr>\n",
       "      <th>995049</th>\n",
       "      <td>M</td>\n",
       "      <td>PEDIATRICS</td>\n",
       "      <td>Male</td>\n",
       "      <td>Single</td>\n",
       "      <td>2</td>\n",
       "      <td>Male</td>\n",
       "    </tr>\n",
       "    <tr>\n",
       "      <th>995050</th>\n",
       "      <td>M</td>\n",
       "      <td>PEDIATRICS</td>\n",
       "      <td>Male</td>\n",
       "      <td>Single</td>\n",
       "      <td>2</td>\n",
       "      <td>Male</td>\n",
       "    </tr>\n",
       "  </tbody>\n",
       "</table>\n",
       "<p>995051 rows × 6 columns</p>\n",
       "</div>"
      ],
      "text/plain": [
       "       InitialClassifing                CategoryName PatientGender  \\\n",
       "0                      F            GENERAL MEDICINE        Female   \n",
       "1                      F            GENERAL MEDICINE        Female   \n",
       "2                      F            GENERAL MEDICINE        Female   \n",
       "3                      F  OBSTETRICS AND GYNAECOLOGY        Female   \n",
       "4                      M            GENERAL MEDICINE        Female   \n",
       "...                  ...                         ...           ...   \n",
       "995046                 F                     DENTIST          Male   \n",
       "995047                 M                  PEDIATRICS          Male   \n",
       "995048                 M                  PEDIATRICS          Male   \n",
       "995049                 M                  PEDIATRICS          Male   \n",
       "995050                 M                  PEDIATRICS          Male   \n",
       "\n",
       "       PatientMarital  PatientAge ClinicianGender  \n",
       "0              Single           5          Female  \n",
       "1              Single           5          Female  \n",
       "2              Single           5          Female  \n",
       "3             Married          25          Female  \n",
       "4             Married          53            Male  \n",
       "...               ...         ...             ...  \n",
       "995046        Married          52            Male  \n",
       "995047         Single           2            Male  \n",
       "995048         Single           2            Male  \n",
       "995049         Single           2            Male  \n",
       "995050         Single           2            Male  \n",
       "\n",
       "[995051 rows x 6 columns]"
      ]
     },
     "execution_count": 639,
     "metadata": {},
     "output_type": "execute_result"
    }
   ],
   "source": [
    "df.dropna()"
   ]
  },
  {
   "cell_type": "code",
   "execution_count": 640,
   "id": "1a707d7e",
   "metadata": {},
   "outputs": [],
   "source": [
    "# For encoding features we need\n",
    "\n",
    "# An ordinal encoding involves mapping each unique label to an integer value.\n",
    "#This type of encoding is really only appropriate if there is a known relationship between the categories.\n",
    "#This relationship does exist for some of the variables in our dataset,\n",
    "#and ideally, this should be harnessed when preparing the data.\n",
    "\n",
    "\n",
    "#LabelEncoder encode labels with a value between 0 and n_classes-1 where n is the number of distinct labels.\n",
    "#If a label repeats it assigns the same value to as assigned earlier.\n",
    "\n",
    "\n",
    "from sklearn.preprocessing import OrdinalEncoder\n",
    "from sklearn.preprocessing import LabelEncoder"
   ]
  },
  {
   "cell_type": "code",
   "execution_count": 641,
   "id": "d4ebe143",
   "metadata": {},
   "outputs": [],
   "source": [
    "# applying Ordinal encoder on inputs [features]\n",
    "\n",
    "enc = OrdinalEncoder()\n",
    "df[[\"InitialClassifing\",\"CategoryName\",\"PatientGender\", \"PatientMarital\"]] = enc.fit_transform(df[[\"InitialClassifing\",\"CategoryName\",\"PatientGender\", \"PatientMarital\"]].astype(str))"
   ]
  },
  {
   "cell_type": "code",
   "execution_count": 642,
   "id": "716382a2",
   "metadata": {},
   "outputs": [],
   "source": [
    "# applying label encoder on output [target]\n",
    "\n",
    "enc = LabelEncoder()\n",
    "df['ClinicianGender'] = enc.fit_transform(df['ClinicianGender'])"
   ]
  },
  {
   "cell_type": "code",
   "execution_count": 643,
   "id": "3dad8114",
   "metadata": {},
   "outputs": [
    {
     "data": {
      "text/html": [
       "<div>\n",
       "<style scoped>\n",
       "    .dataframe tbody tr th:only-of-type {\n",
       "        vertical-align: middle;\n",
       "    }\n",
       "\n",
       "    .dataframe tbody tr th {\n",
       "        vertical-align: top;\n",
       "    }\n",
       "\n",
       "    .dataframe thead th {\n",
       "        text-align: right;\n",
       "    }\n",
       "</style>\n",
       "<table border=\"1\" class=\"dataframe\">\n",
       "  <thead>\n",
       "    <tr style=\"text-align: right;\">\n",
       "      <th></th>\n",
       "      <th>InitialClassifing</th>\n",
       "      <th>CategoryName</th>\n",
       "      <th>PatientGender</th>\n",
       "      <th>PatientMarital</th>\n",
       "      <th>PatientAge</th>\n",
       "      <th>ClinicianGender</th>\n",
       "    </tr>\n",
       "  </thead>\n",
       "  <tbody>\n",
       "    <tr>\n",
       "      <th>0</th>\n",
       "      <td>0.0</td>\n",
       "      <td>9.0</td>\n",
       "      <td>0.0</td>\n",
       "      <td>2.0</td>\n",
       "      <td>5</td>\n",
       "      <td>0</td>\n",
       "    </tr>\n",
       "    <tr>\n",
       "      <th>1</th>\n",
       "      <td>0.0</td>\n",
       "      <td>9.0</td>\n",
       "      <td>0.0</td>\n",
       "      <td>2.0</td>\n",
       "      <td>5</td>\n",
       "      <td>0</td>\n",
       "    </tr>\n",
       "    <tr>\n",
       "      <th>2</th>\n",
       "      <td>0.0</td>\n",
       "      <td>9.0</td>\n",
       "      <td>0.0</td>\n",
       "      <td>2.0</td>\n",
       "      <td>5</td>\n",
       "      <td>0</td>\n",
       "    </tr>\n",
       "    <tr>\n",
       "      <th>3</th>\n",
       "      <td>0.0</td>\n",
       "      <td>14.0</td>\n",
       "      <td>0.0</td>\n",
       "      <td>1.0</td>\n",
       "      <td>25</td>\n",
       "      <td>0</td>\n",
       "    </tr>\n",
       "    <tr>\n",
       "      <th>4</th>\n",
       "      <td>1.0</td>\n",
       "      <td>9.0</td>\n",
       "      <td>0.0</td>\n",
       "      <td>1.0</td>\n",
       "      <td>53</td>\n",
       "      <td>1</td>\n",
       "    </tr>\n",
       "    <tr>\n",
       "      <th>...</th>\n",
       "      <td>...</td>\n",
       "      <td>...</td>\n",
       "      <td>...</td>\n",
       "      <td>...</td>\n",
       "      <td>...</td>\n",
       "      <td>...</td>\n",
       "    </tr>\n",
       "    <tr>\n",
       "      <th>995046</th>\n",
       "      <td>0.0</td>\n",
       "      <td>4.0</td>\n",
       "      <td>1.0</td>\n",
       "      <td>1.0</td>\n",
       "      <td>52</td>\n",
       "      <td>1</td>\n",
       "    </tr>\n",
       "    <tr>\n",
       "      <th>995047</th>\n",
       "      <td>1.0</td>\n",
       "      <td>18.0</td>\n",
       "      <td>1.0</td>\n",
       "      <td>2.0</td>\n",
       "      <td>2</td>\n",
       "      <td>1</td>\n",
       "    </tr>\n",
       "    <tr>\n",
       "      <th>995048</th>\n",
       "      <td>1.0</td>\n",
       "      <td>18.0</td>\n",
       "      <td>1.0</td>\n",
       "      <td>2.0</td>\n",
       "      <td>2</td>\n",
       "      <td>1</td>\n",
       "    </tr>\n",
       "    <tr>\n",
       "      <th>995049</th>\n",
       "      <td>1.0</td>\n",
       "      <td>18.0</td>\n",
       "      <td>1.0</td>\n",
       "      <td>2.0</td>\n",
       "      <td>2</td>\n",
       "      <td>1</td>\n",
       "    </tr>\n",
       "    <tr>\n",
       "      <th>995050</th>\n",
       "      <td>1.0</td>\n",
       "      <td>18.0</td>\n",
       "      <td>1.0</td>\n",
       "      <td>2.0</td>\n",
       "      <td>2</td>\n",
       "      <td>1</td>\n",
       "    </tr>\n",
       "  </tbody>\n",
       "</table>\n",
       "<p>995051 rows × 6 columns</p>\n",
       "</div>"
      ],
      "text/plain": [
       "        InitialClassifing  CategoryName  PatientGender  PatientMarital  \\\n",
       "0                     0.0           9.0            0.0             2.0   \n",
       "1                     0.0           9.0            0.0             2.0   \n",
       "2                     0.0           9.0            0.0             2.0   \n",
       "3                     0.0          14.0            0.0             1.0   \n",
       "4                     1.0           9.0            0.0             1.0   \n",
       "...                   ...           ...            ...             ...   \n",
       "995046                0.0           4.0            1.0             1.0   \n",
       "995047                1.0          18.0            1.0             2.0   \n",
       "995048                1.0          18.0            1.0             2.0   \n",
       "995049                1.0          18.0            1.0             2.0   \n",
       "995050                1.0          18.0            1.0             2.0   \n",
       "\n",
       "        PatientAge  ClinicianGender  \n",
       "0                5                0  \n",
       "1                5                0  \n",
       "2                5                0  \n",
       "3               25                0  \n",
       "4               53                1  \n",
       "...            ...              ...  \n",
       "995046          52                1  \n",
       "995047           2                1  \n",
       "995048           2                1  \n",
       "995049           2                1  \n",
       "995050           2                1  \n",
       "\n",
       "[995051 rows x 6 columns]"
      ]
     },
     "execution_count": 643,
     "metadata": {},
     "output_type": "execute_result"
    }
   ],
   "source": [
    "df"
   ]
  },
  {
   "cell_type": "code",
   "execution_count": 944,
   "id": "5b497687",
   "metadata": {},
   "outputs": [
    {
     "data": {
      "text/plain": [
       "array([ 9., 14., 18., 10., 12.,  2., 11., 16.,  5., 23.,  4.,  0.,  7.,\n",
       "        6.,  8., 15., 19., 21., 20., 17., 22., 13.,  1.,  3.])"
      ]
     },
     "execution_count": 944,
     "metadata": {},
     "output_type": "execute_result"
    }
   ],
   "source": [
    "df.CategoryName.unique()"
   ]
  },
  {
   "cell_type": "code",
   "execution_count": null,
   "id": "efb1e84a",
   "metadata": {},
   "outputs": [],
   "source": [
    "df."
   ]
  },
  {
   "cell_type": "code",
   "execution_count": 870,
   "id": "1ff7e9ca",
   "metadata": {},
   "outputs": [],
   "source": [
    "# The features to train on \n",
    "Features = ['InitialClassifing','CategoryName','PatientGender','PatientMarital','PatientAge','ClinicianGender']"
   ]
  },
  {
   "cell_type": "code",
   "execution_count": 871,
   "id": "8a61bf9e",
   "metadata": {},
   "outputs": [],
   "source": [
    "# Determine the features we want to train the model on\n",
    "\n",
    "dataset = df[Features].values"
   ]
  },
  {
   "cell_type": "code",
   "execution_count": 872,
   "id": "44277c14",
   "metadata": {},
   "outputs": [],
   "source": [
    "# split into input (X) and output (y) variables\n",
    "X = dataset[:, :-1]\n",
    "y = dataset[:,-1]\n",
    "#y=y.astype('int')\n",
    "# format all fields as string\n",
    "X = X.astype(str)\n",
    "# reshape target to be a 2d array\n",
    "y = y.reshape((len(y), 1))"
   ]
  },
  {
   "cell_type": "code",
   "execution_count": 873,
   "id": "c823ee02",
   "metadata": {},
   "outputs": [],
   "source": [
    "# Splitting the dataset into training and testing\n",
    "from sklearn.model_selection import train_test_split\n",
    "\n",
    "X_train, X_test, y_train, y_test = train_test_split(X, y, test_size=0.33, random_state=1)"
   ]
  },
  {
   "cell_type": "code",
   "execution_count": 874,
   "id": "9282b637",
   "metadata": {},
   "outputs": [
    {
     "data": {
      "text/plain": [
       "array([['1.0', '18.0', '1.0', '2.0', '6.0'],\n",
       "       ['0.0', '6.0', '0.0', '1.0', '38.0'],\n",
       "       ['1.0', '9.0', '0.0', '1.0', '29.0'],\n",
       "       ...,\n",
       "       ['1.0', '9.0', '1.0', '1.0', '24.0'],\n",
       "       ['1.0', '9.0', '0.0', '1.0', '38.0'],\n",
       "       ['0.0', '14.0', '0.0', '1.0', '29.0']], dtype='<U32')"
      ]
     },
     "execution_count": 874,
     "metadata": {},
     "output_type": "execute_result"
    }
   ],
   "source": [
    "X_test"
   ]
  },
  {
   "cell_type": "code",
   "execution_count": 875,
   "id": "2b88cbc5",
   "metadata": {},
   "outputs": [
    {
     "name": "stdout",
     "output_type": "stream",
     "text": [
      "Train (666684, 5) (666684, 1)\n",
      "Test (328367, 5) (328367, 1)\n"
     ]
    }
   ],
   "source": [
    "print('Train', X_train.shape, y_train.shape)\n",
    "print('Test', X_test.shape, y_test.shape)"
   ]
  },
  {
   "cell_type": "code",
   "execution_count": 876,
   "id": "93076bd8",
   "metadata": {},
   "outputs": [
    {
     "name": "stderr",
     "output_type": "stream",
     "text": [
      "C:\\Users\\Naim\\anaconda3\\lib\\site-packages\\sklearn\\utils\\validation.py:63: DataConversionWarning: A column-vector y was passed when a 1d array was expected. Please change the shape of y to (n_samples, ), for example using ravel().\n",
      "  return f(*args, **kwargs)\n"
     ]
    },
    {
     "name": "stdout",
     "output_type": "stream",
     "text": [
      "The accuracy score we have achieved using Logistic Regression is: 78.04 %\n"
     ]
    },
    {
     "name": "stderr",
     "output_type": "stream",
     "text": [
      "C:\\Users\\Naim\\anaconda3\\lib\\site-packages\\sklearn\\linear_model\\_logistic.py:763: ConvergenceWarning: lbfgs failed to converge (status=1):\n",
      "STOP: TOTAL NO. of ITERATIONS REACHED LIMIT.\n",
      "\n",
      "Increase the number of iterations (max_iter) or scale the data as shown in:\n",
      "    https://scikit-learn.org/stable/modules/preprocessing.html\n",
      "Please also refer to the documentation for alternative solver options:\n",
      "    https://scikit-learn.org/stable/modules/linear_model.html#logistic-regression\n",
      "  n_iter_i = _check_optimize_result(\n",
      "C:\\Users\\Naim\\anaconda3\\lib\\site-packages\\sklearn\\utils\\validation.py:63: FutureWarning: Arrays of bytes/strings is being converted to decimal numbers if dtype='numeric'. This behavior is deprecated in 0.24 and will be removed in 1.1 (renaming of 0.26). Please convert your data to numeric values explicitly instead.\n",
      "  return f(*args, **kwargs)\n"
     ]
    }
   ],
   "source": [
    "#Model Training\n",
    "\n",
    "from sklearn.metrics import accuracy_score\n",
    "from sklearn.linear_model import LogisticRegression\n",
    "lr = LogisticRegression()\n",
    "lr.fit(X_train,y_train)\n",
    "Y_pred_lr = lr.predict(X_test)\n",
    "score_lr = round(accuracy_score(Y_pred_lr,y_test)*100,2)\n",
    "print(\"The accuracy score we have achieved using Logistic Regression is: \"+str(score_lr)+\" %\")"
   ]
  },
  {
   "cell_type": "code",
   "execution_count": 877,
   "id": "e18c2d67",
   "metadata": {},
   "outputs": [
    {
     "name": "stderr",
     "output_type": "stream",
     "text": [
      "C:\\Users\\Naim\\anaconda3\\lib\\site-packages\\sklearn\\utils\\validation.py:63: DataConversionWarning: A column-vector y was passed when a 1d array was expected. Please change the shape of y to (n_samples, ), for example using ravel().\n",
      "  return f(*args, **kwargs)\n"
     ]
    },
    {
     "name": "stdout",
     "output_type": "stream",
     "text": [
      "The accuracy score we have achieved using Bagging Classifier is: 81.64 %\n"
     ]
    }
   ],
   "source": [
    "from sklearn.ensemble import BaggingClassifier\n",
    "\n",
    "BGC = BaggingClassifier()\n",
    "\n",
    "BGC.fit(X_train,y_train) # model is trained\n",
    "\n",
    "Y_pred_BGC = BGC.predict(X_test)\n",
    "score_BGC = round(accuracy_score(Y_pred_BGC,y_test)*100,2)\n",
    "print(\"The accuracy score we have achieved using Bagging Classifier is: \"+str(score_BGC)+\" %\")"
   ]
  },
  {
   "cell_type": "code",
   "execution_count": 878,
   "id": "0ac67e22",
   "metadata": {},
   "outputs": [
    {
     "name": "stderr",
     "output_type": "stream",
     "text": [
      "C:\\Users\\Naim\\anaconda3\\lib\\site-packages\\sklearn\\utils\\validation.py:63: DataConversionWarning: A column-vector y was passed when a 1d array was expected. Please change the shape of y to (n_samples, ), for example using ravel().\n",
      "  return f(*args, **kwargs)\n"
     ]
    },
    {
     "name": "stdout",
     "output_type": "stream",
     "text": [
      "Feature: 0, Score: -1.47135\n",
      "Feature: 1, Score: -0.02855\n",
      "Feature: 2, Score: -0.34914\n",
      "Feature: 3, Score: 0.28017\n",
      "Feature: 4, Score: 0.00415\n"
     ]
    },
    {
     "name": "stderr",
     "output_type": "stream",
     "text": [
      "C:\\Users\\Naim\\anaconda3\\lib\\site-packages\\sklearn\\linear_model\\_logistic.py:763: ConvergenceWarning: lbfgs failed to converge (status=1):\n",
      "STOP: TOTAL NO. of ITERATIONS REACHED LIMIT.\n",
      "\n",
      "Increase the number of iterations (max_iter) or scale the data as shown in:\n",
      "    https://scikit-learn.org/stable/modules/preprocessing.html\n",
      "Please also refer to the documentation for alternative solver options:\n",
      "    https://scikit-learn.org/stable/modules/linear_model.html#logistic-regression\n",
      "  n_iter_i = _check_optimize_result(\n"
     ]
    },
    {
     "data": {
      "image/png": "[encoded data removed]",
      "text/plain": [
       "<Figure size 432x288 with 1 Axes>"
      ]
     },
     "metadata": {
      "needs_background": "light"
     },
     "output_type": "display_data"
    }
   ],
   "source": [
    "from matplotlib import pyplot\n",
    "model = LogisticRegression()\n",
    "# fit the model\n",
    "model.fit(X_train,y_train)\n",
    "# get importance\n",
    "importance = model.coef_[0]\n",
    "# summarize feature importance\n",
    "for i,v in enumerate(importance):\n",
    "    print('Feature: %0d, Score: %.5f' % (i,v))\n",
    "# plot feature importance\n",
    "pyplot.bar([x for x in range(len(importance))], importance)\n",
    "pyplot.show()"
   ]
  },
  {
   "cell_type": "markdown",
   "id": "26ef24f6",
   "metadata": {},
   "source": [
    "# Please execute this code to predict the doctor's gender based on his name"
   ]
  },
  {
   "cell_type": "code",
   "execution_count": 1005,
   "id": "df3360a8",
   "metadata": {},
   "outputs": [
    {
     "name": "stdout",
     "output_type": "stream",
     "text": [
      "Please enter a doctor name:\n",
      "Lina\n",
      "Predcited Gender F\n"
     ]
    }
   ],
   "source": [
    "#Find Gender based on doctor name only\n",
    "\n",
    "value = input(\"Please enter a doctor name:\\n\")\n",
    "\n",
    "print(f'Predcited Gender {InitialClassify(value)}')"
   ]
  },
  {
   "cell_type": "markdown",
   "id": "eaa6f018",
   "metadata": {},
   "source": [
    "# The accuracy with Logistic Regression\n",
    "\n",
    "# 78.05 % 1 featur (DoctorName only)\n",
    "\n",
    "# 78.05 % 2 features (DoctorName,Category)\n",
    "\n",
    "# 78.05 % 3 features (DoctorName,Category,PatientGender)\n",
    "\n",
    "# 78.05% 4 features (DoctorName,Category,PatientGender,PatientMarital)\n",
    "\n",
    "# 78.04 % % 5 features (DoctorName,Category,PatientGender,PatientMarital,PatientAge)"
   ]
  },
  {
   "cell_type": "code",
   "execution_count": null,
   "id": "9cec194a",
   "metadata": {},
   "outputs": [],
   "source": []
  },
  {
   "cell_type": "markdown",
   "id": "c3260253",
   "metadata": {},
   "source": [
    "# The accuracy with Bagging Classifier\n",
    "\n",
    "# 78.05 %    1 featur   (DoctorName only)\n",
    "\n",
    "# 80.67 %    2 features (DoctorName,Category)\n",
    "\n",
    "# 80.75 %    3 features (DoctorName,Category,PatientGender)\n",
    "\n",
    "# 80.81 %    4 features (DoctorName,Category,PatientGender,PatientMarital)\n",
    "\n",
    "# 81.64 %    5 features  (DoctorName,Category,PatientGender,PatientMarital,PatientAge)\n"
   ]
  },
  {
   "cell_type": "code",
   "execution_count": null,
   "id": "bf49982d",
   "metadata": {},
   "outputs": [],
   "source": [
    "Categoris =['OBSTETRICS AND GYNAECOLOGY', 'GENERAL MEDICINE', 'PEDIATRICS',\n",
    "       'CARDIOLOGY', 'ORTHOPEDICS', 'NEUROLOGY', 'ENT', 'OPHTHALMOLOGY',\n",
    "       'DERMATOLOGY', 'DENTIST', 'GENERAL SURGERY', 'UROLOGY',\n",
    "       'GASTROENTEROLOGY', 'ENDOCRINOLOGY', 'ALLIED HEALTH', 'NEPHROLOGY',\n",
    "       'NURSE AND MIDWIFE', 'PSYCHIATRY', 'PATHOLOGY', 'RADIOLOGY',\n",
    "       'RHEUMATOLOGY', 'PLASTIC SURGERY', 'PULMONOLOGY', 'ANESTHESIOLOGY',\n",
    "        'ONCOLOGY', 'COMPLEMENTARY AND ALTERNATIVE MEDICINE]"
   ]
  },
  {
   "cell_type": "code",
   "execution_count": 991,
   "id": "176c8502",
   "metadata": {},
   "outputs": [],
   "source": [
    "# A helper function that plays the role of an encoder instead of ordinal encoder,\n",
    "#because ordinal encoder does not encode a single row, but it requires many rows.\n",
    "\n",
    "def manual_encoder(x):\n",
    "    return {\n",
    "        'GENERAL MEDICINE': 9.0,\n",
    "        'OBSTETRICS AND GYNAECOLOGY':14.0,\n",
    "        'PEDIATRICS':18.0,\n",
    "        'GENERAL SURGERY':10.0,\n",
    "        'NEUROLOGY':12.0,\n",
    "        'CARDIOLOGY':2.0,\n",
    "        'NEPHROLOGY':11.0,\n",
    "        'ORTHOPEDICS':16.0,\n",
    "        'DERMATOLOGY':5.0,\n",
    "        'UROLOGY':23.0,\n",
    "        'DENTIST':4.0,\n",
    "        'ALLIED HEALTH':0.0,\n",
    "        'ENT':7.0,\n",
    "        'ENDOCRINOLOGY':6.0,\n",
    "        'GASTROENTEROLOGY':8.0,\n",
    "        'OPHTHALMOLOGY':15.0,\n",
    "        'PLASTIC SURGERY':19.0,\n",
    "        'RADIOLOGY':21.0,\n",
    "        'PSYCHIATRY':20.0,\n",
    "        'PATHOLOGY':17.0,\n",
    "        'RHEUMATOLOGY':22.0,\n",
    "        'NURSE AND MIDWIFE':13.0,\n",
    "        'ANESTHESIOLOGY':1.0,\n",
    "        'COMPLEMENTARY AND ALTERNATIVE MEDICINE':3.0,\n",
    "        'Married':2.0,\n",
    "        'Single':1.0,\n",
    "        'Female':0.0,\n",
    "        'Male':1.0,\n",
    "        'F':0.0,\n",
    "        'M':1.0,\n",
    "        'OBSTETRICS AND GYNAECOLOGY':14.0,\n",
    "        'OBSTETRICS AND GYNAECOLOGY':14.0,\n",
    "         }.get(x, 0.0)    # 9 is default if x is not found\n",
    "        "
   ]
  },
  {
   "cell_type": "code",
   "execution_count": 992,
   "id": "eb334bd0",
   "metadata": {},
   "outputs": [],
   "source": [
    "# An auxiliary function for converting a numeric result into a comprehensible result\n",
    "\n",
    "def matcher(i):\n",
    "    switcher={ \n",
    "        \n",
    "            1: \"Predcited gender : Male\",\n",
    "            \n",
    "            0: \"Predicted gender : Female\",\n",
    "            \n",
    "             }\n",
    "    return switcher.get(i,\"unspecified\")"
   ]
  },
  {
   "cell_type": "code",
   "execution_count": 993,
   "id": "b254105c",
   "metadata": {},
   "outputs": [],
   "source": [
    "# An auxiliary function to Convert a List to String\n",
    "def converto(list):\n",
    "      \n",
    "    res = int(\"\".join(map(str, list)))\n",
    "      \n",
    "    return res"
   ]
  },
  {
   "cell_type": "markdown",
   "id": "295fdd35",
   "metadata": {},
   "source": [
    "# Please execute this code to predict the doctor's gender based on his available features"
   ]
  },
  {
   "cell_type": "code",
   "execution_count": 987,
   "id": "545d7099",
   "metadata": {},
   "outputs": [
    {
     "name": "stdout",
     "output_type": "stream",
     "text": [
      "Please enter a doctor name:\n",
      "Ahmad\n",
      "Please enter his category :\n",
      "GASTROENTEROLOGY\n",
      "Please enter his patient gender:\n",
      "Male\n",
      "Please enter his patient marital:\n",
      "Married\n",
      "Please enter his patient age:\n",
      "21\n",
      "out of enc Predcited gender : Male\n"
     ]
    }
   ],
   "source": [
    "value1 = input(\"Please enter a doctor name:\\n\")\n",
    "value2 = input(\"Please enter his category :\\n\")\n",
    "value3 = input(\"Please enter his patient gender:\\n\")\n",
    "value4 = input(\"Please enter his patient marital:\\n\")\n",
    "value5 = input(\"Please enter his patient age:\\n\")\n",
    "\n",
    "Lista = [manual_encoder(InitialClassify(value1)),manual_encoder(value2),manual_encoder(value3),manual_encoder(value4),manual_encoder(value5)]\n",
    "X=np.array(Lista).reshape(1,-1)\n",
    "\n",
    "new_predictions = BGC.predict(X)\n",
    "ZZ=int(new_predictions) \n",
    "result= matcher(ZZ)\n",
    "\n",
    "print(f'out of enc {result}')   \n",
    "\n",
    "#Some examples for a quick test\n",
    "\n",
    "#1 Naim,ENDOCRINOLOGY,Male,Married,32\n",
    "#1 Rahaf,PSYCHIATRY,Male,Single,27\n",
    "#1 Samer,GENERAL SURGERY,Male,Married,45\n",
    "#1 Noor,GASTROENTEROLOGY,female,Single,21"
   ]
  },
  {
   "cell_type": "code",
   "execution_count": 996,
   "id": "f80cee14",
   "metadata": {},
   "outputs": [
    {
     "name": "stdout",
     "output_type": "stream",
     "text": [
      "Please enter a doctor name:\n",
      "Hiba\n",
      "Please enter his category :\n",
      "GASTROENTEROLOGY\n",
      "Please enter his patient gender:\n",
      "female\n",
      "Please enter his patient marital:\n",
      "Single\n",
      "Please enter his patient age:\n",
      "21\n",
      "out of enc Predicted gender : Female\n"
     ]
    }
   ],
   "source": [
    "value1 = input(\"Please enter a doctor name:\\n\")\n",
    "value2 = input(\"Please enter his category :\\n\")\n",
    "value3 = input(\"Please enter his patient gender:\\n\")\n",
    "value4 = input(\"Please enter his patient marital:\\n\")\n",
    "value5 = input(\"Please enter his patient age:\\n\")\n",
    "\n",
    "Lista = [manual_encoder(InitialClassify(value1)),manual_encoder(value2),manual_encoder(value3),manual_encoder(value4),manual_encoder(value5)]\n",
    "X=np.array(Lista).reshape(1,-1)\n",
    "\n",
    "new_predictions = BGC.predict(X)\n",
    "ZZ=int(new_predictions) \n",
    "result= matcher(ZZ)\n",
    "\n",
    "print(f'out of enc {result}')   \n",
    "\n",
    "#Some examples for a quick test\n",
    "\n",
    "#1 Naim,ENDOCRINOLOGY,Male,Married,32\n",
    "#1 Rahaf,PSYCHIATRY,Male,Single,27\n",
    "#1 Samer,GENERAL SURGERY,Male,Married,45\n",
    "#1 Noor,GASTROENTEROLOGY,female,Single,21"
   ]
  },
  {
   "cell_type": "code",
   "execution_count": 997,
   "id": "0f86a21b",
   "metadata": {},
   "outputs": [
    {
     "name": "stdout",
     "output_type": "stream",
     "text": [
      "Please enter a doctor name:\n",
      "Ahmad\n",
      "Please enter his category :\n",
      "PSYCHIATRY\n",
      "Please enter his patient gender:\n",
      "Male\n",
      "Please enter his patient marital:\n",
      "Single\n",
      "Please enter his patient age:\n",
      "27\n",
      "out of enc Predcited gender : Male\n"
     ]
    }
   ],
   "source": [
    "value1 = input(\"Please enter a doctor name:\\n\")\n",
    "value2 = input(\"Please enter his category :\\n\")\n",
    "value3 = input(\"Please enter his patient gender:\\n\")\n",
    "value4 = input(\"Please enter his patient marital:\\n\")\n",
    "value5 = input(\"Please enter his patient age:\\n\")\n",
    "\n",
    "Lista = [manual_encoder(InitialClassify(value1)),manual_encoder(value2),manual_encoder(value3),manual_encoder(value4),manual_encoder(value5)]\n",
    "X=np.array(Lista).reshape(1,-1)\n",
    "\n",
    "new_predictions = BGC.predict(X)\n",
    "ZZ=int(new_predictions) \n",
    "result= matcher(ZZ)\n",
    "\n",
    "print(f'out of enc {result}')   \n",
    "\n",
    "#Some examples for a quick test\n",
    "\n",
    "#1 Naim,ENDOCRINOLOGY,Male,Married,32\n",
    "#1 Rahaf,PSYCHIATRY,Male,Single,27\n",
    "#1 Samer,GENERAL SURGERY,Male,Married,45\n",
    "#1 Noor,GASTROENTEROLOGY,female,Single,21"
   ]
  },
  {
   "cell_type": "code",
   "execution_count": 999,
   "id": "bebd7d89",
   "metadata": {},
   "outputs": [
    {
     "name": "stdout",
     "output_type": "stream",
     "text": [
      "Please enter a doctor name:\n",
      "Issa\n",
      "Please enter his category :\n",
      "GENERAL SURGERY\n",
      "Please enter his patient gender:\n",
      "Male\n",
      "Please enter his patient marital:\n",
      "Married\n",
      "Please enter his patient age:\n",
      "43\n",
      "out of enc Predcited gender : Male\n"
     ]
    }
   ],
   "source": [
    "value1 = input(\"Please enter a doctor name:\\n\")\n",
    "value2 = input(\"Please enter his category :\\n\")\n",
    "value3 = input(\"Please enter his patient gender:\\n\")\n",
    "value4 = input(\"Please enter his patient marital:\\n\")\n",
    "value5 = input(\"Please enter his patient age:\\n\")\n",
    "\n",
    "Lista = [manual_encoder(InitialClassify(value1)),manual_encoder(value2),manual_encoder(value3),manual_encoder(value4),manual_encoder(value5)]\n",
    "X=np.array(Lista).reshape(1,-1)\n",
    "\n",
    "new_predictions = BGC.predict(X)\n",
    "ZZ=int(new_predictions) \n",
    "result= matcher(ZZ)\n",
    "\n",
    "print(f'out of enc {result}')   \n",
    "\n",
    "#Some examples for a quick test\n",
    "\n",
    "#1 Naim,ENDOCRINOLOGY,Male,Married,32\n",
    "#1 Rahaf,PSYCHIATRY,Male,Single,27\n",
    "#1 Samer,GENERAL SURGERY,Male,Married,45\n",
    "#1 Noor,GASTROENTEROLOGY,female,Single,21"
   ]
  },
  {
   "cell_type": "code",
   "execution_count": null,
   "id": "c655d758",
   "metadata": {},
   "outputs": [],
   "source": []
  }
 ],
 "metadata": {
  "kernelspec": {
   "display_name": "Python 3 (ipykernel)",
   "language": "python",
   "name": "python3"
  },
  "language_info": {
   "codemirror_mode": {
    "name": "ipython",
    "version": 3
   },
   "file_extension": ".py",
   "mimetype": "text/x-python",
   "name": "python",
   "nbconvert_exporter": "python",
   "pygments_lexer": "ipython3",
   "version": "3.9.7"
  }
 },
 "nbformat": 4,
 "nbformat_minor": 5
}
